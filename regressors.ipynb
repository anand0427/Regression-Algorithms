{
  "cells": [
    {
      "metadata": {
        "_uuid": "b6269c0e8f417f82daf093dda8fa0da6d2c57d86",
        "_cell_guid": "e81ee64d-e474-4662-9036-ce23df615199"
      },
      "cell_type": "markdown",
      "source": "**Housing predictions for the Iowa data.**\n\n\nRealised people are actually looking at my notebook just today. I will make it as descriptive as possible. I am a beginner with some knowledge in the mathematics of things so just need sometime to expla. "
    },
    {
      "metadata": {
        "_uuid": "069b5fa3f26d958a9b5ec0742226ffc0f14d5053",
        "_cell_guid": "57b4a4cd-8f89-4f82-8dee-21f56e68dfb9",
        "collapsed": true,
        "trusted": false
      },
      "cell_type": "code",
      "source": "import pandas as pd\nfrom sklearn.tree import DecisionTreeRegressor\nfrom sklearn.metrics import mean_absolute_error\nfrom sklearn.metrics import mean_squared_error\nfrom sklearn.model_selection import train_test_split\nfrom sklearn.ensemble import RandomForestRegressor\nfrom sklearn.ensemble import GradientBoostingRegressor\nfrom sklearn.ensemble.partial_dependence import plot_partial_dependence,partial_dependence\nfrom sklearn.model_selection import cross_val_score\nfrom sklearn.decomposition import PCA \nfrom sklearn.preprocessing import Imputer\nfrom matplotlib import pyplot as plt\nfrom xgboost import XGBRegressor\nimport numpy as np\nimport math",
      "execution_count": null,
      "outputs": []
    },
    {
      "metadata": {
        "_uuid": "1c728098629e1301643443b1341556a15c089b2b",
        "_cell_guid": "86b26423-563a-4fa1-a595-89e25ff93089",
        "_kg_hide-input": false,
        "collapsed": true,
        "scrolled": true,
        "trusted": false
      },
      "cell_type": "code",
      "source": "\nmain_file_path = '../input/train.csv'\ndata = pd.read_csv(main_file_path)\ny=data.SalePrice\nprint (y.head())\n\n",
      "execution_count": null,
      "outputs": []
    },
    {
      "metadata": {
        "_uuid": "42b87953dda65bf4e3c59652f8d8eb517735772e",
        "_cell_guid": "906b9a44-017a-4012-b022-52dac3efa511",
        "collapsed": true,
        "trusted": false
      },
      "cell_type": "code",
      "source": "colmns=['Alley','LotShape']\nprint (data[colmns].describe())\n",
      "execution_count": null,
      "outputs": []
    },
    {
      "metadata": {
        "_uuid": "9cf277ae05d7f8dcce6212e49433d9eb7ff04c5b",
        "_cell_guid": "c9a43308-9873-45b2-9f2c-4fc2ce26f609",
        "collapsed": true,
        "trusted": false
      },
      "cell_type": "code",
      "source": "data_predictors=['LotArea','YearBuilt','1stFlrSF','2ndFlrSF','FullBath','BedroomAbvGr','TotRmsAbvGrd']\nX=data[data_predictors]\nprint(X.head())\n#print(y)\n",
      "execution_count": null,
      "outputs": []
    },
    {
      "metadata": {
        "_uuid": "d06be2b64b37ef2d3fae322c8e9244db312da156",
        "_cell_guid": "d2865fbd-a814-471a-bf9d-d60d847fab5b",
        "collapsed": true,
        "trusted": false
      },
      "cell_type": "code",
      "source": "dt_model=DecisionTreeRegressor()\n\ndt_model.fit(X,y)\n\nprint('making predictions')\nprint(X.head())\nprint('predictions')\nprint(dt_model.predict(X.head()))\n",
      "execution_count": null,
      "outputs": []
    },
    {
      "metadata": {
        "_uuid": "fdacda20ec08a3343229bc00533035a6819da7cf",
        "_cell_guid": "db96f06c-6e9f-40e9-854e-42467aa69c40",
        "collapsed": true,
        "trusted": false
      },
      "cell_type": "code",
      "source": "predicted_data=dt_model.predict(X)\nmath.sqrt(mean_squared_error(y,predicted_data))",
      "execution_count": null,
      "outputs": []
    },
    {
      "metadata": {
        "_uuid": "c5a11dc479ef645caea6659f0778bf94dfc9faf8",
        "_cell_guid": "caf9e1ae-1194-4a08-b2e3-94ac50426c72",
        "collapsed": true,
        "trusted": false
      },
      "cell_type": "code",
      "source": "train_X,val_X,train_y,val_y=train_test_split(X,y,random_state=0)\n\ndt_model.fit(train_X,train_y)\n\nval_predictions=dt_model.predict(val_X)\n\nmath.sqrt(mean_squared_error(val_y,val_predictions))\n",
      "execution_count": null,
      "outputs": []
    },
    {
      "metadata": {
        "_uuid": "f17a1fb3ff5de73bec863c53d88e47589f183545",
        "_cell_guid": "1ce9c27d-ef6b-4128-a564-69287fcf6006",
        "collapsed": true,
        "trusted": false
      },
      "cell_type": "code",
      "source": "test = pd.read_csv(\"../input/test.csv\")\ntrain = pd.read_csv(\"../input/train.csv\")",
      "execution_count": null,
      "outputs": []
    },
    {
      "metadata": {
        "_uuid": "f2c08a1f424da22284c926fcf60bff9e6b7d0b07",
        "_cell_guid": "44294e7a-61a0-46ce-ad44-80f8f97bb425",
        "collapsed": true,
        "trusted": false
      },
      "cell_type": "code",
      "source": "X = train.drop(['SalePrice'],axis=1)\ny = train.SalePrice\n#print (X.SalePrice)\nval_X = test[list(test)]\n",
      "execution_count": null,
      "outputs": []
    },
    {
      "metadata": {
        "_uuid": "f2250bb76d2b5b631d50e4d9954bb831d5eaeacb",
        "_cell_guid": "f7292ece-5743-4aad-81e9-21709cd1f16f",
        "collapsed": true,
        "trusted": false
      },
      "cell_type": "code",
      "source": "\none_hot_pred = pd.get_dummies(X)\none_hot_encoded_test_predictors = pd.get_dummies(val_X)\nfinal_train, final_test = one_hot_pred.align(one_hot_encoded_test_predictors,\n                                                                    join='left', \n                                                                    axis=1)",
      "execution_count": null,
      "outputs": []
    },
    {
      "metadata": {
        "_uuid": "3b45b2aeb390bda8b45a0e357cf37d983b4d588f",
        "_cell_guid": "e5753bc5-e92e-47b1-8366-a67a640f6b44",
        "collapsed": true,
        "trusted": false
      },
      "cell_type": "code",
      "source": "my_imputer = Imputer()\nimputed_X_train = my_imputer.fit_transform(final_train)\nimputed_X_test = my_imputer.transform(final_test)\n",
      "execution_count": null,
      "outputs": []
    },
    {
      "metadata": {
        "_uuid": "56984e2b4c4150eb968e30e4e95cb8502573e805",
        "_cell_guid": "9a171542-f137-4233-87d4-56136edd24bc",
        "collapsed": true,
        "trusted": false
      },
      "cell_type": "code",
      "source": "new_dt_model=DecisionTreeRegressor()\n\nnew_dt_model.fit(imputed_X_train,y)\n\ndt_predictions=new_dt_model.predict(imputed_X_test)\n",
      "execution_count": null,
      "outputs": []
    },
    {
      "metadata": {
        "_uuid": "592c5ea419151f2d9f9dbdc54993a44bc1f5bc0e",
        "_cell_guid": "ae4e0829-c225-41d6-8576-a17890acbcad",
        "collapsed": true,
        "trusted": false
      },
      "cell_type": "code",
      "source": "my_submission=pd.DataFrame({'ID': test.Id, 'SalePrice': dt_predictions})\n\nmy_submission.to_csv('dy_submission.csv',index=False)",
      "execution_count": null,
      "outputs": []
    },
    {
      "metadata": {
        "_uuid": "90234c1e89b894f77988e71d8ec22b4364c82cb9",
        "_cell_guid": "4542d6d0-ffc2-49b7-bb22-53129b9ece5c"
      },
      "cell_type": "markdown",
      "source": "Score: 0.20626"
    },
    {
      "metadata": {
        "_uuid": "aa5831d9bebd977fbe4ffdb3cf920d827797ebee",
        "_cell_guid": "f3bfa546-0ed5-43c6-ac87-dae076389fec",
        "scrolled": true,
        "collapsed": true,
        "trusted": false
      },
      "cell_type": "code",
      "source": "forest_model=RandomForestRegressor()\nforest_model.fit(train_X,train_y)\npred_val=forest_model.predict(val_X)\nprint(mean_absolute_error(val_y,pred_val))",
      "execution_count": null,
      "outputs": []
    },
    {
      "metadata": {
        "_uuid": "630090f29060d91f2192f8653bd262fa70b560b6",
        "_cell_guid": "8161b4c8-2b0f-4082-bff3-aae34af96a76",
        "collapsed": true,
        "trusted": false
      },
      "cell_type": "code",
      "source": "from sklearn.ensemble import RandomForestRegressor\nimport pandas as pd\n\ntrain = pd.read_csv('../input/train.csv')\n\ntrain_y=data.SalePrice\npredictor_cols=['LotArea', 'OverallQual', 'YearBuilt', 'TotRmsAbvGrd']\n\ntrain_X=train[predictor_cols]\n\nforest_model=RandomForestRegressor()\nforest_model.fit(train_X,train_y)\n\ntest= pd.read_csv('../input/test.csv')\n\ntest_X=test[predictor_cols]\n\npredicted_prices=forest_model.predict(test_X)\n\n#print(predicted_prices)\n\nmy_submission=pd.DataFrame({'ID': test.Id, 'SalePrice': predicted_prices})\n\nmy_submission.to_csv('submission.csv',index=False)\n",
      "execution_count": null,
      "outputs": []
    },
    {
      "metadata": {
        "_uuid": "714097712eb0f6dca3a12ffd83f6e74749f2b2c1",
        "_cell_guid": "69a0c8b6-db21-48ac-922d-2f70269753e9",
        "collapsed": true,
        "trusted": false
      },
      "cell_type": "code",
      "source": "Score: 0.19192",
      "execution_count": null,
      "outputs": []
    },
    {
      "metadata": {
        "_uuid": "19306beace599bc70ae2569108e80e7fb8c68710",
        "_cell_guid": "05485865-b229-405c-9b33-70261d119347"
      },
      "cell_type": "markdown",
      "source": "print the sum of NAN values in each column"
    },
    {
      "metadata": {
        "_uuid": "fe9e7b41a1724d400a0777a51479c33b4dde71e7",
        "_cell_guid": "09ed8aaa-6355-4970-85fd-6d57ac26d414",
        "collapsed": true,
        "trusted": false
      },
      "cell_type": "code",
      "source": "print(data.isnull().sum())",
      "execution_count": null,
      "outputs": []
    },
    {
      "metadata": {
        "_uuid": "60a2a254820e27691f55c2cdaea32231113ba109",
        "_cell_guid": "d253571d-92da-42d6-aeb7-da9ca8037b43"
      },
      "cell_type": "markdown",
      "source": "Drop column with missing values"
    },
    {
      "metadata": {
        "_uuid": "6b43a83f0b6f06734c2ef3b9497673fce95133f3",
        "_cell_guid": "d86f6c73-42b6-44cc-a2bc-353eeeaecd47",
        "collapsed": true,
        "trusted": false
      },
      "cell_type": "code",
      "source": "test = pd.read_csv(\"../input/test.csv\")\ntrain = pd.read_csv(\"../input/train.csv\")",
      "execution_count": null,
      "outputs": []
    },
    {
      "metadata": {
        "_uuid": "b7ee049cc1104eb4b5a0bdb0fbfef34f91f03335",
        "_cell_guid": "7ea0bae9-4110-41e6-b8af-f14357c5beb8",
        "collapsed": true,
        "trusted": false
      },
      "cell_type": "code",
      "source": "X = train.drop(['SalePrice'],axis=1)\ny = train.SalePrice\n#print (X.SalePrice)\nval_X = test[list(test)]\n#print(val_X.isnull().any())\nprint(X.columns)",
      "execution_count": null,
      "outputs": []
    },
    {
      "metadata": {
        "_uuid": "2f375028fd0fefd67af8f3caf8775e600bfff39b",
        "_cell_guid": "9c5e3ac3-03f1-4cbf-a22a-100d485f0985"
      },
      "cell_type": "markdown",
      "source": "One hot encoding"
    },
    {
      "metadata": {
        "_uuid": "8e5866ab2ca980e19deae818207dc4592d10b18b",
        "_cell_guid": "6013ae48-9705-4111-a368-dbe866760d19",
        "scrolled": false,
        "collapsed": true,
        "trusted": false
      },
      "cell_type": "code",
      "source": "#X=X.dropna(axis=1)\none_hot_pred=pd.get_dummies(X)\n\ndef get_mae(in_X,in_y):\n    return -1*cross_val_score(RandomForestRegressor(50),in_X,in_y,scoring=\"neg_mean_absolute_error\").mean()\n\nmae_one_hot= get_mae(one_hot_pred,y)\nprint(mae_one_hot)",
      "execution_count": null,
      "outputs": []
    },
    {
      "metadata": {
        "_uuid": "857d9f2a3e6c17ed7089f8e8bff4eb45f396d70b",
        "_cell_guid": "31be5a94-dc42-4f41-873b-cebd0d4b68d9",
        "scrolled": true,
        "collapsed": true,
        "trusted": false
      },
      "cell_type": "code",
      "source": "#val_X=val_X.dropna(axis=1)\none_hot_pred=pd.get_dummies(X)\none_hot_encoded_test_predictors = pd.get_dummies(val_X)\nfinal_train, final_test = one_hot_pred.align(one_hot_encoded_test_predictors,\n                                                                    join='left', \n                                                                    axis=1)\n\n#final_train=final_train.select_dtypes(exclude=['object'])\n#final_test=final_test.select_dtypes(exclude=['object'])\nprint(final_train.columns)\nprint(final_test.columns)",
      "execution_count": null,
      "outputs": []
    },
    {
      "metadata": {
        "_uuid": "5144db15ae4dc45d5fc5e0d5f44d3061e70b98f7",
        "_cell_guid": "89b084a9-5ad4-4d8c-a400-20fa54ec4c43",
        "collapsed": true,
        "trusted": false
      },
      "cell_type": "code",
      "source": "cols_missing_data= [col for col in final_train.columns\n                                if final_train[col].isnull().any()]",
      "execution_count": null,
      "outputs": []
    },
    {
      "metadata": {
        "_uuid": "198080329c1a20714b2b1bd98ba2b8a099206121",
        "_cell_guid": "ad79a4c5-500d-42ff-ad0b-e58c88e8190c",
        "collapsed": true,
        "trusted": false
      },
      "cell_type": "code",
      "source": "print(final_test.columns.isnull().any())\nfinal_test=final_test.drop(cols_missing_data, axis=1)\nprint(final_test.columns.isnull().any())",
      "execution_count": null,
      "outputs": []
    },
    {
      "metadata": {
        "_uuid": "bc6569bc94021272b5b4efe3fc41368c2f4dcc1d",
        "_cell_guid": "c26d307f-7a34-4580-99cc-063afacb3945",
        "scrolled": true,
        "collapsed": true,
        "trusted": false
      },
      "cell_type": "code",
      "source": "model=RandomForestRegressor()\n\nmodel.fit(final_train,y)\n\n",
      "execution_count": null,
      "outputs": []
    },
    {
      "metadata": {
        "_uuid": "f480466380bce3486ff296469e7e31b362b04a80",
        "_cell_guid": "edc7ba32-e11b-4c58-a728-cabf8d66e35f",
        "collapsed": true,
        "trusted": false
      },
      "cell_type": "code",
      "source": "print(final_train.columns.isnull().any())\nfinal_train=final_train.drop(cols_missing_data, axis=1)\nprint(final_train.columns)",
      "execution_count": null,
      "outputs": []
    },
    {
      "metadata": {
        "_uuid": "7b401d32ac1de8b54fc20308b4044faea2a6998b",
        "_cell_guid": "224522c6-11fc-474d-a8ce-b08dc7c9eb7b",
        "scrolled": false,
        "collapsed": true,
        "trusted": false
      },
      "cell_type": "code",
      "source": "#print(final_test.isnull().sum())\npred_val=model.predict(final_test)",
      "execution_count": null,
      "outputs": []
    },
    {
      "metadata": {
        "_uuid": "cdf00e1416d20a527c735a0df6f72288dce55c9a",
        "_cell_guid": "d4d9d751-cd8f-4b3f-b347-1c2ebcb5e130",
        "collapsed": true,
        "trusted": false
      },
      "cell_type": "code",
      "source": "X=train.drop(['SalePrice'],axis=1)\ny=train.SalePrice\n#print (X.SalePrice)\nval_X = test[list(test)]",
      "execution_count": null,
      "outputs": []
    },
    {
      "metadata": {
        "_uuid": "5f219628f254ef30b26e3a3d28789258c6d6e667",
        "_cell_guid": "05950cec-9dee-4648-98eb-d55cb526cd61",
        "collapsed": true,
        "trusted": false
      },
      "cell_type": "code",
      "source": "one_hot_pred=pd.get_dummies(X)\n\none_hot_encoded_test_predictors = pd.get_dummies(val_X)\nfinal_train, final_test = one_hot_pred.align(one_hot_encoded_test_predictors,\n                                                                    join='left', \n                                                                    axis=1)",
      "execution_count": null,
      "outputs": []
    },
    {
      "metadata": {
        "_uuid": "e44d6ed9450d487fd623c91afc8abfe4e9bf3553",
        "_cell_guid": "350af6fb-c5fa-4505-8140-f595dfcdfff5",
        "collapsed": true,
        "trusted": false
      },
      "cell_type": "code",
      "source": "\nmy_imputer = Imputer()\nimputed_X_train = my_imputer.fit_transform(final_train)\nimputed_X_test = my_imputer.transform(final_test)\n",
      "execution_count": null,
      "outputs": []
    },
    {
      "metadata": {
        "_uuid": "68d620468859432eac7aec723ccd5d62fbb53d2c",
        "_cell_guid": "ed949102-d555-42e3-9419-947e11fcf0ff",
        "collapsed": true,
        "trusted": false
      },
      "cell_type": "code",
      "source": "print(imputed_X_train.shape)\nprint(imputed_X_train.shape)",
      "execution_count": null,
      "outputs": []
    },
    {
      "metadata": {
        "_uuid": "f2727eaed4dd22e851782ee53f2140681027a339",
        "_cell_guid": "37e664fb-7f8e-4e3a-8f92-20db4c3743cc",
        "collapsed": true,
        "trusted": false
      },
      "cell_type": "code",
      "source": "\nimp_model = RandomForestRegressor()\nimp_model.fit(imputed_X_train,y)\nimp_model_prices = imp_model.predict(imputed_X_test)",
      "execution_count": null,
      "outputs": []
    },
    {
      "metadata": {
        "_uuid": "6291624582deb09af0a5b630f2835c15b05a3d1f",
        "_cell_guid": "2cc34b40-6c3b-4ea9-8724-218bf85e34b9",
        "collapsed": true,
        "trusted": false
      },
      "cell_type": "code",
      "source": "my_submission=pd.DataFrame({'ID': test.Id, 'SalePrice': imp_model_prices})\n\nmy_submission.to_csv('imp_submission.csv',index=False)",
      "execution_count": null,
      "outputs": []
    },
    {
      "metadata": {
        "_uuid": "7645d97786bc5686d22844047c8d6dd3814a5a29",
        "_cell_guid": "75a81812-2cfb-424f-8abb-351f54f6d2c0"
      },
      "cell_type": "markdown",
      "source": "Score: 0.16085"
    },
    {
      "metadata": {
        "_uuid": "4af955426307f437b81dca1df5f278761b2b4f88",
        "_cell_guid": "b4c3cc08-880c-4f9b-abe2-459370c4086e"
      },
      "cell_type": "markdown",
      "source": "Imputation with Extra Columns "
    },
    {
      "metadata": {
        "_uuid": "0c4fe67daa37c8547d3a9393ac91c56676f3429e",
        "_cell_guid": "1ec79a4b-365f-4cf3-82a7-e75a6a13e168",
        "collapsed": true,
        "trusted": false
      },
      "cell_type": "code",
      "source": "imputed_X_train_plus = X.copy()\nimputed_X_test_plus = val_X.copy()\n\ncols = (col for i in X.columns \n                if X[col].isnull().any())\n\none_hot_pred = pd.get_dummies(imputed_X_train_plus)\none_hot_encoded_test_predictors = pd.get_dummies(imputed_X_test_plus)\nimputed_X_train_plus,imputed_X_test_plus = one_hot_pred.align(one_hot_encoded_test_predictors,\n                                                                    join='left', \n                                                                    axis=1)\n\n\n",
      "execution_count": null,
      "outputs": []
    },
    {
      "metadata": {
        "_uuid": "b55ad2d314a5b1c7f3c185d20c26f7ddde80c37a",
        "_cell_guid": "894b781d-b472-4388-87c6-0de6fd47ff72",
        "collapsed": true,
        "trusted": false
      },
      "cell_type": "code",
      "source": "for c in cols:\n    imputed_X_train_plus[c+'_missing'] = imputed_X_train_plus[c].isnull()\n    imputed_X_test_plus[c+'_missing'] = imputed_X_test_plus[c].isnull()\n    ",
      "execution_count": null,
      "outputs": []
    },
    {
      "metadata": {
        "_uuid": "a63343ea2f254628690e64129f8a4130d6267d6a",
        "_cell_guid": "2323d713-ce51-4949-b062-7f8800c19c94",
        "collapsed": true,
        "trusted": false
      },
      "cell_type": "code",
      "source": "print(X.columns.sort_values())",
      "execution_count": null,
      "outputs": []
    },
    {
      "metadata": {
        "_uuid": "c6de250256096193ee14dcff79326645257e9aa6",
        "_cell_guid": "fc9279b8-75e4-411c-8d75-f36b448e2aa7",
        "collapsed": true,
        "trusted": false
      },
      "cell_type": "code",
      "source": "my_imputer = Imputer()\nimputed_X_train_plus = my_imputer.fit_transform(imputed_X_train_plus)\nimputed_X_test_plus = my_imputer.transform(imputed_X_test_plus)\n\nimp_plus_model = RandomForestRegressor()\nimp_plus_model.fit(imputed_X_train_plus,y)\nimp_plus_model_prices = imp_model.predict(imputed_X_test_plus)",
      "execution_count": null,
      "outputs": []
    },
    {
      "metadata": {
        "_uuid": "01d7ded1551285f82857a13fd116701980787da4",
        "_kg_hide-output": false,
        "_cell_guid": "e0c29eab-d590-476e-aa7a-e144aeb4e6fd",
        "collapsed": true,
        "trusted": false
      },
      "cell_type": "code",
      "source": "my_submission=pd.DataFrame({'ID': test.Id, 'SalePrice': imp_plus_model_prices})\n\nmy_submission.to_csv('imp_plus_submission.csv',index=False)",
      "execution_count": null,
      "outputs": []
    },
    {
      "metadata": {
        "_uuid": "35f01b797b6cd5c5874e78a2aca0800ded33c562",
        "_cell_guid": "907f93d6-5abf-488a-b897-6ca46a3b9105"
      },
      "cell_type": "markdown",
      "source": "Score:0.15177"
    },
    {
      "metadata": {
        "_uuid": "3385d7bca7557e2b3b921d5a74a20dc7787f8cd8",
        "_cell_guid": "66bbfdea-1686-4711-af73-e853b0280af2"
      },
      "cell_type": "markdown",
      "source": "**XGBoost**"
    },
    {
      "metadata": {
        "_uuid": "d465f51aecf648fb77935115029aa2c2eaa99c7c",
        "_cell_guid": "4a5aa5e8-d4fd-4e5b-8986-d49be8989c6e",
        "collapsed": true,
        "trusted": false
      },
      "cell_type": "code",
      "source": "xgb_model = XGBRegressor()\nxgb_model.fit(imputed_X_train_plus,y)\nxgb_pred_prices = xgb_model.predict(imputed_X_test_plus)",
      "execution_count": null,
      "outputs": []
    },
    {
      "metadata": {
        "_uuid": "21f0b17125c7fbf6810a5aefc142dd05dbd85c5f",
        "_cell_guid": "0fe22182-3ce3-41cc-b0a2-b2d2a2ec273f",
        "collapsed": true,
        "trusted": false
      },
      "cell_type": "code",
      "source": "my_submission=pd.DataFrame({'ID': test.Id, 'SalePrice': xgb_pred_prices})\n\nmy_submission.to_csv('xgboost_submission.csv',index=False)",
      "execution_count": null,
      "outputs": []
    },
    {
      "metadata": {
        "_uuid": "bf93b4ed74cdcde34bc2d43bec974c0d590c8dd2",
        "_cell_guid": "79b99bd2-e4ac-4dda-ae7e-5de02bc5c3b0",
        "collapsed": true,
        "trusted": false
      },
      "cell_type": "code",
      "source": "Score:0.13520",
      "execution_count": null,
      "outputs": []
    },
    {
      "metadata": {
        "_uuid": "e5e9a71d484a40308c4f5aa978a991e28a95183e",
        "_cell_guid": "ef21c1e9-3fc7-45d2-a0b6-10fd95917f34"
      },
      "cell_type": "markdown",
      "source": "**XGBoost with model tuning parameters**"
    },
    {
      "metadata": {
        "_uuid": "762ddaa622568893aaf1ba994e324c0713682cf7",
        "_cell_guid": "f946d95d-4262-488d-9d60-9fb8082c05b2",
        "collapsed": true,
        "trusted": false
      },
      "cell_type": "code",
      "source": "train_X, test_X, train_y, test_y = train_test_split(imputed_X_train_plus,\n                                                    y, test_size=0.25)\nxgb_plus_model = XGBRegressor(n_estimators=1000, learning_rate=0.5)\n",
      "execution_count": null,
      "outputs": []
    },
    {
      "metadata": {
        "_uuid": "0a46adcd69ddf6a7981299eee095789a27a0b170",
        "_cell_guid": "e4c557d3-1445-48a2-abad-cf7b5aea88c2",
        "collapsed": true,
        "trusted": false
      },
      "cell_type": "code",
      "source": "xgb_plus_model.fit(train_X, train_y, early_stopping_rounds=10,\n                    eval_set=[(test_X, test_y)], verbose=False)\nxgb_plus_prices = xgb_plus_model.predict(imputed_X_test_plus)\n",
      "execution_count": null,
      "outputs": []
    },
    {
      "metadata": {
        "_uuid": "96b31bf95a86679b14758084a8e6c16dd0fd5f2f",
        "_cell_guid": "21a951d2-75db-4f2a-b594-9cd6220becca",
        "collapsed": true,
        "trusted": false
      },
      "cell_type": "code",
      "source": "my_submission=pd.DataFrame({'ID': test.Id, 'SalePrice': xgb_plus_prices})\n\nmy_submission.to_csv('xgboost_plus_submission.csv',index=False)",
      "execution_count": null,
      "outputs": []
    },
    {
      "metadata": {
        "_uuid": "cf74ce1632f099dc6b6c115f4d78349078387d14",
        "_cell_guid": "f74dcd02-4b51-4575-b782-d018ee79d241",
        "collapsed": true,
        "trusted": false
      },
      "cell_type": "code",
      "source": "Score:0.15490",
      "execution_count": null,
      "outputs": []
    },
    {
      "metadata": {
        "_uuid": "c5cb0679cc0d3ebd223779dab2bf6163ea41fd6b",
        "_cell_guid": "721d1648-57fe-44a8-bac2-b05dea200b18"
      },
      "cell_type": "markdown",
      "source": "**Gradient Boosting Regressor sklearn**"
    },
    {
      "metadata": {
        "_uuid": "e4fed2c1aa8edb8897b6e6a05103fce7689c80e5",
        "_cell_guid": "73318685-6ec1-4fc9-9995-5dc742b37b9a",
        "collapsed": true,
        "trusted": false
      },
      "cell_type": "code",
      "source": "gb_model = GradientBoostingRegressor()\ngb_model.fit(imputed_X_train_plus,y)\ngb_pred_prices = gb_model.predict(imputed_X_test_plus)",
      "execution_count": null,
      "outputs": []
    },
    {
      "metadata": {
        "_uuid": "eec17f0e1cb70f1d4ccda7dbe766ca7b9a4822e3",
        "_cell_guid": "96395691-fe64-4092-a86a-e7ef08fa9ac3",
        "collapsed": true,
        "trusted": false
      },
      "cell_type": "code",
      "source": "my_submission=pd.DataFrame({'ID': test.Id, 'SalePrice': gb_pred_prices})\n\nmy_submission.to_csv('gboost_submission.csv',index=False)",
      "execution_count": null,
      "outputs": []
    },
    {
      "metadata": {
        "_uuid": "f4f42e0d4aa3a30a6fcda6829fe76b10bddadf3f",
        "_cell_guid": "fd059b73-d0df-469a-807d-268e28c271a5"
      },
      "cell_type": "markdown",
      "source": "Score: 0.13471"
    },
    {
      "metadata": {
        "_uuid": "7f08a35eb1369c5617ad924b5546eff473750c77",
        "_cell_guid": "363a3495-62b2-4ea8-91e7-c9e201a90a8a"
      },
      "cell_type": "markdown",
      "source": "**Gradient Boosting Regressor sklearn params**"
    },
    {
      "metadata": {
        "_uuid": "cb4a7f2d4a1ea6e286d6cd5b433e3cbff5650a3d",
        "_cell_guid": "4689e457-af0e-4c37-93eb-7e8448b7f894",
        "collapsed": true,
        "trusted": false
      },
      "cell_type": "code",
      "source": "gb_plus_model = GradientBoostingRegressor(n_estimators=10000, learning_rate=0.01)\ngb_plus_model.fit(imputed_X_train_plus,y)\ngb_plus_pred_prices = gb_plus_model.predict(imputed_X_test_plus)\nprint(gb_plus_pred_prices)",
      "execution_count": null,
      "outputs": []
    },
    {
      "metadata": {
        "_uuid": "d2f8a1ff5d7051a70e14a140e1b80cb5cde653cf",
        "_cell_guid": "8375c314-b49d-410e-a2b1-1c7965d93b39",
        "collapsed": true,
        "trusted": false
      },
      "cell_type": "code",
      "source": "my_submission = pd.DataFrame({'ID': test.Id, 'SalePrice': gb_plus_pred_prices})\n\nmy_submission.to_csv('gboost_plus_submission.csv',index=False)",
      "execution_count": null,
      "outputs": []
    },
    {
      "metadata": {
        "_uuid": "bf062da3321f925d388a7a9c1939d42e230ec36d",
        "_cell_guid": "16fd9bd7-830b-4b43-a828-f0be4a2c6cc5"
      },
      "cell_type": "markdown",
      "source": "Score: 0.13457"
    },
    {
      "metadata": {
        "_uuid": "73dcfeb9cc954c8f98499596e095ed5e3c8ef6a1",
        "_cell_guid": "ae698215-e0e9-4928-89c8-a66ccfc6169b"
      },
      "cell_type": "markdown",
      "source": "**Partial Dependence based on gradient boosting regressor**"
    },
    {
      "metadata": {
        "_uuid": "4d78cd44e0cec06a8eb1c4b994063112fce089e6",
        "_cell_guid": "d41ee9f0-a447-452c-81eb-79345008165c",
        "collapsed": true,
        "trusted": false
      },
      "cell_type": "code",
      "source": "my_plots = plot_partial_dependence(gb_plus_model,\n                                      features=[0],\n                                      X=imputed_X_train_plus,\n                                      feature_names=['GarageType','CentralAir','1stFlrSF','2stFlrSF','Alley','Street','MSSubClass','LotArea','RoofMatl'],\n                                      grid_resolution=10)",
      "execution_count": null,
      "outputs": []
    },
    {
      "metadata": {
        "_uuid": "1fe0c3bce9c795f501f0d2a3633662194d8ceea8",
        "_cell_guid": "804f4128-d857-4738-b667-ff1abfa3fab3",
        "collapsed": true,
        "trusted": false
      },
      "cell_type": "code",
      "source": "my_plots = plot_partial_dependence(gb_plus_model,\n                                      features=[0,1,2,3,4,5,6,7,8],\n                                      X=imputed_X_train_plus,\n                                      feature_names=['GarageType','CentralAir','1stFlrSF','2stFlrSF','Alley','Street','MSSubClass','LotArea','RoofMatl'],\n                                      grid_resolution=10)",
      "execution_count": null,
      "outputs": []
    },
    {
      "metadata": {
        "_uuid": "94f1478083ad8d3649ddfefdc9a80229cb67e092",
        "_cell_guid": "09908382-86a7-418f-bfb2-c31ca12ad195",
        "collapsed": true,
        "trusted": false
      },
      "cell_type": "code",
      "source": "#pca = PCA().fit(imputed_X_train_plus)\n#plt.plot(np.cumsum(pca.explained_variance_ratio_))\n#plt.xlim(0,5,1)\n",
      "execution_count": null,
      "outputs": []
    },
    {
      "metadata": {
        "_uuid": "1a4b60a8e9dcd7a30081dbdc77c7cdb198d2de42",
        "_cell_guid": "a565a7e5-dff9-4910-864c-8c188e968207",
        "collapsed": true,
        "trusted": false
      },
      "cell_type": "code",
      "source": "sklearn_pca = PCA(n_components=5)\nprint(sklearn_pca)",
      "execution_count": null,
      "outputs": []
    },
    {
      "metadata": {
        "_uuid": "86d597c75a2c7b058c5df9047f554585a6b2669c",
        "_cell_guid": "8d2f2a73-6b3d-4a4a-bccf-25242163d145",
        "collapsed": true,
        "trusted": false
      },
      "cell_type": "code",
      "source": "\n\nX_sklearn = sklearn_pca.fit_transform(imputed_X_train_plus)\nprint(X_sklearn.shape)",
      "execution_count": null,
      "outputs": []
    },
    {
      "metadata": {
        "_uuid": "fdca711abeb49d71afc6ae26e371435bbcc99281",
        "_cell_guid": "9e824b13-0f48-4a2d-8673-6065cbe7e17e",
        "scrolled": true,
        "collapsed": true,
        "trusted": false
      },
      "cell_type": "code",
      "source": "X_test_sklearn=sklearn_pca.transform(imputed_X_test_plus)\nprint(X_test_sklearn.shape)",
      "execution_count": null,
      "outputs": []
    },
    {
      "metadata": {
        "_uuid": "2e7f0f6f36c8e4816b8538f3b1b43b05c1221224",
        "_cell_guid": "f4db9776-c378-43db-81a4-a3f73ee6300a",
        "collapsed": true,
        "trusted": false
      },
      "cell_type": "code",
      "source": "pca_gb_plus_model = GradientBoostingRegressor(n_estimators=10000, learning_rate=0.01)\npca_gb_plus_model.fit(X_sklearn,y)\npca_gb_plus_pred_prices = pca_gb_plus_model.predict(X_test_sklearn)\nprint(pca_gb_plus_pred_prices)",
      "execution_count": null,
      "outputs": []
    },
    {
      "metadata": {
        "_uuid": "732fcced3b51498703b8e7215c70dcfe91868ce7",
        "_cell_guid": "54499850-04d2-4569-93b4-f609dc4e8f0b",
        "collapsed": true,
        "trusted": false
      },
      "cell_type": "code",
      "source": "my_submission = pd.DataFrame({'ID': test.Id, 'SalePrice': pca_gb_plus_pred_prices})\n\nmy_submission.to_csv('pca_gb_plus_submission.csv',index=False)",
      "execution_count": null,
      "outputs": []
    }
  ],
  "metadata": {
    "kernelspec": {
      "display_name": "Python 3",
      "language": "python",
      "name": "python3"
    },
    "language_info": {
      "codemirror_mode": {
        "name": "ipython",
        "version": 3
      },
      "version": "3.6.4",
      "nbconvert_exporter": "python",
      "pygments_lexer": "ipython3",
      "name": "python",
      "mimetype": "text/x-python",
      "file_extension": ".py"
    }
  },
  "nbformat": 4,
  "nbformat_minor": 1
}