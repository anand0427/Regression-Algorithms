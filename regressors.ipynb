{
  "cells": [
    {
      "metadata": {
        "_cell_guid": "e81ee64d-e474-4662-9036-ce23df615199",
        "_uuid": "b6269c0e8f417f82daf093dda8fa0da6d2c57d86"
      },
      "cell_type": "markdown",
      "source": "# Housing predictions for the Iowa data.\n\n## Contents\n    1.  Decision Tree \n    2.  Random Forest prediction with select features\n    3.  Random Forest prediction with all features\n    4.  XGBoost\n    5.  XGBoost with  parameters\n    6.  Gradient Boosting\n    7.  Gradient Boosting with params\n    8.  Partial Dependence based on gradient boosting regressor\n    9.  Decomposition with Principal Component Analysis and gradient boosting\n    10. Piplelines with Gradient boosting\n    11. LightGBM"
    },
    {
      "metadata": {
        "collapsed": true,
        "_cell_guid": "57b4a4cd-8f89-4f82-8dee-21f56e68dfb9",
        "_uuid": "069b5fa3f26d958a9b5ec0742226ffc0f14d5053",
        "trusted": true
      },
      "cell_type": "code",
      "source": "import pandas as pd\nfrom sklearn.tree import DecisionTreeRegressor\nfrom sklearn.metrics import mean_absolute_error\nfrom sklearn.metrics import mean_squared_error\nfrom sklearn.model_selection import train_test_split\nfrom sklearn.ensemble import RandomForestRegressor\nfrom sklearn.ensemble import GradientBoostingRegressor\nfrom sklearn.ensemble.partial_dependence import plot_partial_dependence,partial_dependence\nfrom sklearn.pipeline import make_pipeline\nfrom sklearn.model_selection import cross_val_score\nfrom sklearn.decomposition import PCA \nfrom sklearn.preprocessing import Imputer\nfrom matplotlib import pyplot as plt\nfrom xgboost import XGBRegressor\nimport numpy as np\nimport math\nimport lightgbm as lgb",
      "execution_count": 3,
      "outputs": []
    },
    {
      "metadata": {
        "_uuid": "b1d88e93e956ca158e8402ad3a472aee566974f5"
      },
      "cell_type": "markdown",
      "source": "**Decision Tree**"
    },
    {
      "metadata": {
        "collapsed": true,
        "_cell_guid": "1ce9c27d-ef6b-4128-a564-69287fcf6006",
        "_uuid": "f17a1fb3ff5de73bec863c53d88e47589f183545",
        "trusted": true
      },
      "cell_type": "code",
      "source": "test = pd.read_csv(\"../input/test.csv\")\ntrain = pd.read_csv(\"../input/train.csv\")",
      "execution_count": 4,
      "outputs": []
    },
    {
      "metadata": {
        "collapsed": true,
        "_cell_guid": "44294e7a-61a0-46ce-ad44-80f8f97bb425",
        "_uuid": "f2c08a1f424da22284c926fcf60bff9e6b7d0b07",
        "trusted": true
      },
      "cell_type": "code",
      "source": "X = train.drop(['SalePrice'],axis=1)\ny = train.SalePrice\n#print (X.SalePrice)\nval_X = test[list(test)]\n",
      "execution_count": 5,
      "outputs": []
    },
    {
      "metadata": {
        "collapsed": true,
        "_cell_guid": "f7292ece-5743-4aad-81e9-21709cd1f16f",
        "_uuid": "f2250bb76d2b5b631d50e4d9954bb831d5eaeacb",
        "trusted": true
      },
      "cell_type": "code",
      "source": "\none_hot_pred = pd.get_dummies(X)\none_hot_encoded_test_predictors = pd.get_dummies(val_X)\nfinal_train, final_test = one_hot_pred.align(one_hot_encoded_test_predictors,\n                                                                    join='left', \n                                                                    axis=1)",
      "execution_count": 6,
      "outputs": []
    },
    {
      "metadata": {
        "collapsed": true,
        "_cell_guid": "e5753bc5-e92e-47b1-8366-a67a640f6b44",
        "_uuid": "3b45b2aeb390bda8b45a0e357cf37d983b4d588f",
        "trusted": true
      },
      "cell_type": "code",
      "source": "my_imputer = Imputer()\nimputed_X_train = my_imputer.fit_transform(final_train)\nimputed_X_test = my_imputer.transform(final_test)\n",
      "execution_count": 7,
      "outputs": []
    },
    {
      "metadata": {
        "collapsed": true,
        "_cell_guid": "9a171542-f137-4233-87d4-56136edd24bc",
        "_uuid": "56984e2b4c4150eb968e30e4e95cb8502573e805",
        "trusted": true
      },
      "cell_type": "code",
      "source": "new_dt_model=DecisionTreeRegressor()\n\nnew_dt_model.fit(imputed_X_train,y)\n\ndt_predictions=new_dt_model.predict(imputed_X_test)\n",
      "execution_count": 8,
      "outputs": []
    },
    {
      "metadata": {
        "collapsed": true,
        "_cell_guid": "ae4e0829-c225-41d6-8576-a17890acbcad",
        "_uuid": "592c5ea419151f2d9f9dbdc54993a44bc1f5bc0e",
        "trusted": true
      },
      "cell_type": "code",
      "source": "my_submission=pd.DataFrame({'ID': test.Id, 'SalePrice': dt_predictions})\n\nmy_submission.to_csv('dy_submission.csv',index=False)",
      "execution_count": 9,
      "outputs": []
    },
    {
      "metadata": {
        "_cell_guid": "4542d6d0-ffc2-49b7-bb22-53129b9ece5c",
        "_uuid": "90234c1e89b894f77988e71d8ec22b4364c82cb9"
      },
      "cell_type": "markdown",
      "source": "**Score: 0.20626**"
    },
    {
      "metadata": {
        "_uuid": "7b393fcaf8a858705be297b05b94ece6e2571d90"
      },
      "cell_type": "markdown",
      "source": "**Random Forest prediction with select features **"
    },
    {
      "metadata": {
        "collapsed": true,
        "_cell_guid": "8161b4c8-2b0f-4082-bff3-aae34af96a76",
        "_uuid": "630090f29060d91f2192f8653bd262fa70b560b6",
        "trusted": true
      },
      "cell_type": "code",
      "source": "from sklearn.ensemble import RandomForestRegressor\nimport pandas as pd\n\ntrain = pd.read_csv('../input/train.csv')\ntrain_y=train.SalePrice\npredictor_cols=['LotArea', 'OverallQual', 'YearBuilt', 'TotRmsAbvGrd']\ntrain_X=train[predictor_cols]\nforest_model=RandomForestRegressor()\nforest_model.fit(train_X,train_y)\ntest= pd.read_csv('../input/test.csv')\ntest_X=test[predictor_cols]\npredicted_prices=forest_model.predict(test_X)\n#print(predicted_prices)",
      "execution_count": 10,
      "outputs": []
    },
    {
      "metadata": {
        "collapsed": true,
        "_cell_guid": "a81ea21e-ed63-414d-8f68-1a1a85a88161",
        "_uuid": "6c2aedb3407279daf30dc2a16b09499ba6a0cffb",
        "trusted": true
      },
      "cell_type": "code",
      "source": "my_submission=pd.DataFrame({'ID': test.Id, 'SalePrice': predicted_prices})\nmy_submission.to_csv('submission.csv',index=False)",
      "execution_count": 11,
      "outputs": []
    },
    {
      "metadata": {
        "collapsed": true,
        "_cell_guid": "69a0c8b6-db21-48ac-922d-2f70269753e9",
        "_uuid": "714097712eb0f6dca3a12ffd83f6e74749f2b2c1"
      },
      "cell_type": "markdown",
      "source": " **Score: 0.19192**"
    },
    {
      "metadata": {
        "_cell_guid": "b4c3cc08-880c-4f9b-abe2-459370c4086e",
        "_uuid": "4af955426307f437b81dca1df5f278761b2b4f88"
      },
      "cell_type": "markdown",
      "source": "**Random Forest prediction with all features **"
    },
    {
      "metadata": {
        "collapsed": true,
        "_cell_guid": "2ed509fa-27e5-4a6a-9743-112574cadfe5",
        "_uuid": "24d44c921b2e46bf6f7013ac9bc3c72ecc4bb39f",
        "trusted": true
      },
      "cell_type": "code",
      "source": "X = train.drop(['SalePrice'],axis=1)\ny = train.SalePrice\n#print (X.SalePrice)\nval_X = test[list(test)]",
      "execution_count": 12,
      "outputs": []
    },
    {
      "metadata": {
        "scrolled": true,
        "_cell_guid": "1ec79a4b-365f-4cf3-82a7-e75a6a13e168",
        "_uuid": "0c4fe67daa37c8547d3a9393ac91c56676f3429e",
        "trusted": true
      },
      "cell_type": "code",
      "source": "one_hot_pred = pd.get_dummies(X)\none_hot_encoded_test_predictors = pd.get_dummies(val_X)\nfinal_train, final_test = one_hot_pred.align(one_hot_encoded_test_predictors, join = 'left',axis = 1)",
      "execution_count": 13,
      "outputs": []
    },
    {
      "metadata": {
        "collapsed": true,
        "_cell_guid": "fc9279b8-75e4-411c-8d75-f36b448e2aa7",
        "_uuid": "c6de250256096193ee14dcff79326645257e9aa6",
        "trusted": true
      },
      "cell_type": "code",
      "source": "my_imputer = Imputer()\nimputed_X_train_plus = my_imputer.fit_transform(final_train)\nimputed_X_test_plus = my_imputer.transform(final_test)",
      "execution_count": 14,
      "outputs": []
    },
    {
      "metadata": {
        "collapsed": true,
        "_cell_guid": "494998d7-7f3c-4c88-8ef0-a3a5b4cb42c0",
        "_uuid": "3d2a0ff409c67d47aaf07e5bd2990ba67ed32907",
        "trusted": true
      },
      "cell_type": "code",
      "source": "imp_model = RandomForestRegressor()\nimp_model.fit(imputed_X_train_plus,y)\nimp_model_prices = imp_model.predict(imputed_X_test_plus)",
      "execution_count": 15,
      "outputs": []
    },
    {
      "metadata": {
        "collapsed": true,
        "_cell_guid": "e0c29eab-d590-476e-aa7a-e144aeb4e6fd",
        "_kg_hide-output": false,
        "_uuid": "01d7ded1551285f82857a13fd116701980787da4",
        "trusted": true
      },
      "cell_type": "code",
      "source": "my_submission=pd.DataFrame({'ID': test.Id, 'SalePrice': imp_model_prices})\n\nmy_submission.to_csv('imp_submission.csv',index=False)",
      "execution_count": 16,
      "outputs": []
    },
    {
      "metadata": {
        "_cell_guid": "907f93d6-5abf-488a-b897-6ca46a3b9105",
        "_uuid": "35f01b797b6cd5c5874e78a2aca0800ded33c562"
      },
      "cell_type": "markdown",
      "source": "**Score:0.15124**"
    },
    {
      "metadata": {
        "_cell_guid": "66bbfdea-1686-4711-af73-e853b0280af2",
        "_uuid": "3385d7bca7557e2b3b921d5a74a20dc7787f8cd8"
      },
      "cell_type": "markdown",
      "source": "**XGBoost**"
    },
    {
      "metadata": {
        "collapsed": true,
        "_cell_guid": "4a5aa5e8-d4fd-4e5b-8986-d49be8989c6e",
        "_uuid": "d465f51aecf648fb77935115029aa2c2eaa99c7c",
        "trusted": true
      },
      "cell_type": "code",
      "source": "xgb_model = XGBRegressor()\nxgb_model.fit(imputed_X_train_plus,y)\nxgb_pred_prices = xgb_model.predict(imputed_X_test_plus)",
      "execution_count": 17,
      "outputs": []
    },
    {
      "metadata": {
        "collapsed": true,
        "_cell_guid": "0fe22182-3ce3-41cc-b0a2-b2d2a2ec273f",
        "_uuid": "21f0b17125c7fbf6810a5aefc142dd05dbd85c5f",
        "trusted": true
      },
      "cell_type": "code",
      "source": "my_submission=pd.DataFrame({'ID': test.Id, 'SalePrice': xgb_pred_prices})\n\nmy_submission.to_csv('xgboost_submission.csv',index=False)",
      "execution_count": 18,
      "outputs": []
    },
    {
      "metadata": {
        "collapsed": true,
        "_cell_guid": "79b99bd2-e4ac-4dda-ae7e-5de02bc5c3b0",
        "_uuid": "bf93b4ed74cdcde34bc2d43bec974c0d590c8dd2"
      },
      "cell_type": "markdown",
      "source": "**Score:0.13520**"
    },
    {
      "metadata": {
        "_cell_guid": "ef21c1e9-3fc7-45d2-a0b6-10fd95917f34",
        "_uuid": "e5e9a71d484a40308c4f5aa978a991e28a95183e"
      },
      "cell_type": "markdown",
      "source": "**XGBoost with  parameters**"
    },
    {
      "metadata": {
        "collapsed": true,
        "_cell_guid": "f946d95d-4262-488d-9d60-9fb8082c05b2",
        "_uuid": "762ddaa622568893aaf1ba994e324c0713682cf7",
        "trusted": true
      },
      "cell_type": "code",
      "source": "train_X, test_X, train_y, test_y = train_test_split(imputed_X_train_plus,\n                                                    y, test_size=0.25)\nxgb_plus_model = XGBRegressor(n_estimators=1000, learning_rate=0.5)\n",
      "execution_count": 19,
      "outputs": []
    },
    {
      "metadata": {
        "collapsed": true,
        "_cell_guid": "e4c557d3-1445-48a2-abad-cf7b5aea88c2",
        "_uuid": "0a46adcd69ddf6a7981299eee095789a27a0b170",
        "trusted": true
      },
      "cell_type": "code",
      "source": "xgb_plus_model.fit(train_X, train_y, early_stopping_rounds=10,\n                    eval_set=[(test_X, test_y)], verbose=False)\nxgb_plus_prices = xgb_plus_model.predict(imputed_X_test_plus)\n",
      "execution_count": 20,
      "outputs": []
    },
    {
      "metadata": {
        "collapsed": true,
        "_cell_guid": "21a951d2-75db-4f2a-b594-9cd6220becca",
        "_uuid": "96b31bf95a86679b14758084a8e6c16dd0fd5f2f",
        "trusted": true
      },
      "cell_type": "code",
      "source": "my_submission=pd.DataFrame({'ID': test.Id, 'SalePrice': xgb_plus_prices})\n\nmy_submission.to_csv('xgboost_plus_submission.csv',index=False)",
      "execution_count": 21,
      "outputs": []
    },
    {
      "metadata": {
        "collapsed": true,
        "_cell_guid": "f74dcd02-4b51-4575-b782-d018ee79d241",
        "_uuid": "cf74ce1632f099dc6b6c115f4d78349078387d14"
      },
      "cell_type": "markdown",
      "source": "**Score:0.15490**"
    },
    {
      "metadata": {
        "_cell_guid": "721d1648-57fe-44a8-bac2-b05dea200b18",
        "_uuid": "c5cb0679cc0d3ebd223779dab2bf6163ea41fd6b"
      },
      "cell_type": "markdown",
      "source": "**Gradient Boosting**"
    },
    {
      "metadata": {
        "collapsed": true,
        "_cell_guid": "73318685-6ec1-4fc9-9995-5dc742b37b9a",
        "_uuid": "e4fed2c1aa8edb8897b6e6a05103fce7689c80e5",
        "trusted": true
      },
      "cell_type": "code",
      "source": "gb_model = GradientBoostingRegressor()\ngb_model.fit(imputed_X_train_plus,y)\ngb_pred_prices = gb_model.predict(imputed_X_test_plus)",
      "execution_count": 22,
      "outputs": []
    },
    {
      "metadata": {
        "collapsed": true,
        "_cell_guid": "96395691-fe64-4092-a86a-e7ef08fa9ac3",
        "_uuid": "eec17f0e1cb70f1d4ccda7dbe766ca7b9a4822e3",
        "trusted": true
      },
      "cell_type": "code",
      "source": "my_submission=pd.DataFrame({'ID': test.Id, 'SalePrice': gb_pred_prices})\nmy_submission.to_csv('gboost_submission.csv',index=False)",
      "execution_count": 23,
      "outputs": []
    },
    {
      "metadata": {
        "_cell_guid": "fd059b73-d0df-469a-807d-268e28c271a5",
        "_uuid": "f4f42e0d4aa3a30a6fcda6829fe76b10bddadf3f"
      },
      "cell_type": "markdown",
      "source": "**Score: 0.13471**"
    },
    {
      "metadata": {
        "_cell_guid": "363a3495-62b2-4ea8-91e7-c9e201a90a8a",
        "_uuid": "7f08a35eb1369c5617ad924b5546eff473750c77"
      },
      "cell_type": "markdown",
      "source": "**Gradient Boosting with params**"
    },
    {
      "metadata": {
        "_cell_guid": "4689e457-af0e-4c37-93eb-7e8448b7f894",
        "_uuid": "cb4a7f2d4a1ea6e286d6cd5b433e3cbff5650a3d",
        "trusted": true
      },
      "cell_type": "code",
      "source": "gb_plus_model = GradientBoostingRegressor(n_estimators=10000, learning_rate=0.01)\ngb_plus_model.fit(imputed_X_train_plus,y)\ngb_plus_pred_prices = gb_plus_model.predict(imputed_X_test_plus)\nprint(gb_plus_pred_prices)",
      "execution_count": 24,
      "outputs": [
        {
          "output_type": "stream",
          "text": "[124574.79155991 165319.53614612 185663.13994657 ... 140759.21111591\n 109644.1607049  223420.30313634]\n",
          "name": "stdout"
        }
      ]
    },
    {
      "metadata": {
        "collapsed": true,
        "_cell_guid": "8375c314-b49d-410e-a2b1-1c7965d93b39",
        "_uuid": "d2f8a1ff5d7051a70e14a140e1b80cb5cde653cf",
        "trusted": true
      },
      "cell_type": "code",
      "source": "my_submission = pd.DataFrame({'ID': test.Id, 'SalePrice': gb_plus_pred_prices})\nmy_submission.to_csv('gboost_plus_submission.csv',index=False)",
      "execution_count": 25,
      "outputs": []
    },
    {
      "metadata": {
        "_cell_guid": "16fd9bd7-830b-4b43-a828-f0be4a2c6cc5",
        "_uuid": "bf062da3321f925d388a7a9c1939d42e230ec36d"
      },
      "cell_type": "markdown",
      "source": "**Score: 0.13457**"
    },
    {
      "metadata": {
        "_cell_guid": "ae698215-e0e9-4928-89c8-a66ccfc6169b",
        "_uuid": "73dcfeb9cc954c8f98499596e095ed5e3c8ef6a1"
      },
      "cell_type": "markdown",
      "source": "**Partial Dependence based on gradient boosting regressor**"
    },
    {
      "metadata": {
        "_cell_guid": "804f4128-d857-4738-b667-ff1abfa3fab3",
        "_uuid": "1fe0c3bce9c795f501f0d2a3633662194d8ceea8",
        "trusted": true
      },
      "cell_type": "code",
      "source": "fig ,axs = plot_partial_dependence(gb_plus_model,\n                                      features=[0,1,2,3,4,5,6,7,8],\n                                      X=imputed_X_train_plus,\n                                      feature_names=['GarageType','CentralAir','1stFlrSF','2stFlrSF','Alley','Street','MSSubClass','LotArea','RoofMatl'],\n                                      grid_resolution=100)\n\nplt.subplots_adjust(top=2.5,right=2.5)",
      "execution_count": 26,
      "outputs": [
        {
          "output_type": "display_data",
          "data": {
            "text/plain": "<matplotlib.figure.Figure at 0x7f0c18c507f0>",
            "image/png": "[encoded data removed]"
          },
          "metadata": {}
        }
      ]
    },
    {
      "metadata": {
        "_uuid": "55ef24e251208cedf243403c6394475219781e7a"
      },
      "cell_type": "markdown",
      "source": "**Decomposition with Principal Component Analysis and gradient boosting**"
    },
    {
      "metadata": {
        "_cell_guid": "09908382-86a7-418f-bfb2-c31ca12ad195",
        "_uuid": "94f1478083ad8d3649ddfefdc9a80229cb67e092",
        "trusted": true
      },
      "cell_type": "code",
      "source": "pca = PCA().fit(imputed_X_train_plus)\nplt.plot(np.cumsum(pca.explained_variance_ratio_))\nplt.xlim(0,10,1)\n",
      "execution_count": 27,
      "outputs": [
        {
          "output_type": "execute_result",
          "execution_count": 27,
          "data": {
            "text/plain": "(0, 10)"
          },
          "metadata": {}
        },
        {
          "output_type": "display_data",
          "data": {
            "text/plain": "<matplotlib.figure.Figure at 0x7f0c0cf79d30>",
            "image/png": "[encoded data removed]"
          },
          "metadata": {}
        }
      ]
    },
    {
      "metadata": {
        "_cell_guid": "a565a7e5-dff9-4910-864c-8c188e968207",
        "_uuid": "1a4b60a8e9dcd7a30081dbdc77c7cdb198d2de42",
        "trusted": true
      },
      "cell_type": "code",
      "source": "sklearn_pca = PCA(n_components=14)\nprint(sklearn_pca)",
      "execution_count": 28,
      "outputs": [
        {
          "output_type": "stream",
          "text": "PCA(copy=True, iterated_power='auto', n_components=14, random_state=None,\n  svd_solver='auto', tol=0.0, whiten=False)\n",
          "name": "stdout"
        }
      ]
    },
    {
      "metadata": {
        "_cell_guid": "8d2f2a73-6b3d-4a4a-bccf-25242163d145",
        "_uuid": "86d597c75a2c7b058c5df9047f554585a6b2669c",
        "trusted": true
      },
      "cell_type": "code",
      "source": "X_sklearn = sklearn_pca.fit_transform(imputed_X_train_plus)\nprint(X_sklearn.shape)\n\nX_test_sklearn=sklearn_pca.transform(imputed_X_test_plus)\nprint(X_test_sklearn.shape)",
      "execution_count": 29,
      "outputs": [
        {
          "output_type": "stream",
          "text": "(1460, 14)\n(1459, 14)\n",
          "name": "stdout"
        }
      ]
    },
    {
      "metadata": {
        "scrolled": true,
        "_cell_guid": "f4db9776-c378-43db-81a4-a3f73ee6300a",
        "_uuid": "2e7f0f6f36c8e4816b8538f3b1b43b05c1221224",
        "trusted": true
      },
      "cell_type": "code",
      "source": "pca_gb_plus_model = GradientBoostingRegressor(n_estimators=1000, learning_rate=0.01)\npca_gb_plus_model.fit(X_sklearn,y)\npca_gb_plus_pred_prices = pca_gb_plus_model.predict(X_test_sklearn)\nprint(pca_gb_plus_pred_prices)",
      "execution_count": 30,
      "outputs": [
        {
          "output_type": "stream",
          "text": "[142347.93516634 149191.44823485 200000.57637453 ... 171833.88255287\n  96228.62517137 216004.05105438]\n",
          "name": "stdout"
        }
      ]
    },
    {
      "metadata": {
        "collapsed": true,
        "_cell_guid": "54499850-04d2-4569-93b4-f609dc4e8f0b",
        "_uuid": "732fcced3b51498703b8e7215c70dcfe91868ce7",
        "trusted": true
      },
      "cell_type": "code",
      "source": "my_submission = pd.DataFrame({'ID': test.Id, 'SalePrice': pca_gb_plus_pred_prices})\n\nmy_submission.to_csv('pca_gb_plus_submission.csv',index=False)",
      "execution_count": 31,
      "outputs": []
    },
    {
      "metadata": {
        "_cell_guid": "4c30b93c-07d0-4f26-87e4-4418fe65e132",
        "_uuid": "939c5c2fd08e1e3626e5f43f8cac51e417c824fd"
      },
      "cell_type": "markdown",
      "source": "**Piplelines with Gradient boosting**"
    },
    {
      "metadata": {
        "_cell_guid": "b7f721cb-877d-472f-9e3b-d61187b6c18d",
        "_uuid": "8e2e8ffbf2ba005eacabf5b0a851a2020bcece08",
        "trusted": true
      },
      "cell_type": "code",
      "source": "my_pipeline= make_pipeline(Imputer(),GradientBoostingRegressor(n_estimators=1000, learning_rate=0.01))\n\nprint(cross_val_score(my_pipeline, imputed_X_train_plus, y, scoring = \"neg_mean_absolute_error\"))\nmy_pipeline.fit(imputed_X_train_plus,y)\npipe_line_predictions=my_pipeline.predict(imputed_X_test_plus)\n\n",
      "execution_count": 32,
      "outputs": [
        {
          "output_type": "stream",
          "text": "[-15212.39975413 -16602.35795193 -16777.17069232]\n",
          "name": "stdout"
        }
      ]
    },
    {
      "metadata": {
        "collapsed": true,
        "_cell_guid": "25f8579d-063e-45b5-8095-29d59519f1d9",
        "_uuid": "464d212e97453642194763d3eb0e9b559a9e425e",
        "trusted": true
      },
      "cell_type": "code",
      "source": "my_submission = pd.DataFrame({'ID': test.Id, 'SalePrice': pipe_line_predictions})\n\nmy_submission.to_csv('pipe_line_predictions.csv',index=False)",
      "execution_count": 33,
      "outputs": []
    },
    {
      "metadata": {
        "_cell_guid": "92705a15-d956-49d7-b3c3-0baad904d9f6",
        "_uuid": "b7e08c54e525f3aaf8009cf41623717752ece429"
      },
      "cell_type": "markdown",
      "source": "**LightGBM**"
    },
    {
      "metadata": {
        "collapsed": true,
        "_cell_guid": "3fe99939-b9f0-41a9-82ff-09aec61d71c9",
        "_uuid": "86ed8a28618e2d206fbcfd3a3d519545e0deb427",
        "trusted": true
      },
      "cell_type": "code",
      "source": "lgb_dataSet=lgb.Dataset(imputed_X_train_plus, label=y)\nparams={\n    'learning_rate':0.1,\n    'boosting_type':'gbdt',\n    'objective':'regression',\n    'sub_features':0.5,\n    'num_leaves':10000,\n    'min_data':100,\n    'max_depth':1000,\n}",
      "execution_count": 34,
      "outputs": []
    },
    {
      "metadata": {
        "scrolled": false,
        "_cell_guid": "fba19015-df61-4984-9cfe-2d7f45932b78",
        "_uuid": "1796d57167b2c684842fe81e7df607a8d0243391",
        "trusted": true
      },
      "cell_type": "code",
      "source": "lgb_model=lgb.train(params,lgb_dataSet, num_boost_round=10000)\nprint(lgb_model.best_iteration)\nlgb_pred_prices= lgb_model.predict(imputed_X_test_plus, num_iteration= 10000)\n",
      "execution_count": 35,
      "outputs": [
        {
          "output_type": "stream",
          "text": "0\n",
          "name": "stdout"
        }
      ]
    },
    {
      "metadata": {
        "_cell_guid": "1f4dd4cb-cbe3-433e-a682-a01d8a66832b",
        "_uuid": "08cb0301d8b19d16cce4795d6991dce551440413",
        "trusted": true
      },
      "cell_type": "code",
      "source": "mean_absolute_error(gb_plus_pred_prices,lgb_pred_prices)",
      "execution_count": 36,
      "outputs": [
        {
          "output_type": "execute_result",
          "execution_count": 36,
          "data": {
            "text/plain": "17276.94814559428"
          },
          "metadata": {}
        }
      ]
    },
    {
      "metadata": {
        "collapsed": true,
        "_cell_guid": "17c47ee9-95b2-43c4-8bc6-49696fc296f3",
        "_uuid": "cffc64b6fa23490237161c66a0343c99503e7e21",
        "trusted": true
      },
      "cell_type": "code",
      "source": "my_submission = pd.DataFrame({'ID': test.Id, 'SalePrice': lgb_pred_prices})\n\nmy_submission.to_csv('lgb_pred.csv',index=False)",
      "execution_count": 37,
      "outputs": []
    }
  ],
  "metadata": {
    "kernelspec": {
      "display_name": "Python 3",
      "language": "python",
      "name": "python3"
    },
    "language_info": {
      "name": "python",
      "version": "3.6.5",
      "mimetype": "text/x-python",
      "codemirror_mode": {
        "name": "ipython",
        "version": 3
      },
      "pygments_lexer": "ipython3",
      "nbconvert_exporter": "python",
      "file_extension": ".py"
    }
  },
  "nbformat": 4,
  "nbformat_minor": 1
}